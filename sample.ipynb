{
 "cells": [
  {
   "cell_type": "code",
   "execution_count": 2,
   "metadata": {},
   "outputs": [
    {
     "name": "stdout",
     "output_type": "stream",
     "text": [
      "Collecting scikit-surprise\n",
      "  Using cached scikit-surprise-1.1.3.tar.gz (771 kB)\n",
      "  Installing build dependencies: started\n",
      "  Installing build dependencies: finished with status 'done'\n",
      "  Getting requirements to build wheel: started\n",
      "  Getting requirements to build wheel: finished with status 'error'\n"
     ]
    },
    {
     "name": "stderr",
     "output_type": "stream",
     "text": [
      "  error: subprocess-exited-with-error\n",
      "  \n",
      "  × Getting requirements to build wheel did not run successfully.\n",
      "  │ exit code: 1\n",
      "  ╰─> [50 lines of output]\n",
      "      <string>:65: _DeprecatedInstaller: setuptools.installer and fetch_build_eggs are deprecated.\n",
      "      !!\n",
      "      \n",
      "              ********************************************************************************\n",
      "              Requirements should be satisfied by a PEP 517 installer.\n",
      "              If you are using pip, you can try `pip install --use-pep517`.\n",
      "              ********************************************************************************\n",
      "      \n",
      "      !!\n",
      "      C:\\Users\\Arnav Sharma\\AppData\\Local\\Programs\\Python\\Python38\\python.exe: No module named pip\n",
      "      Traceback (most recent call last):\n",
      "        File \"C:\\Users\\Arnav Sharma\\AppData\\Local\\Temp\\pip-build-env-dhvh56jw\\overlay\\Lib\\site-packages\\setuptools\\installer.py\", line 101, in _fetch_build_egg_no_warn\n",
      "          subprocess.check_call(cmd)\n",
      "        File \"C:\\Users\\Arnav Sharma\\AppData\\Local\\Programs\\Python\\Python38\\lib\\subprocess.py\", line 364, in check_call\n",
      "          raise CalledProcessError(retcode, cmd)\n",
      "      subprocess.CalledProcessError: Command '['C:\\\\Users\\\\Arnav Sharma\\\\AppData\\\\Local\\\\Programs\\\\Python\\\\Python38\\\\python.exe', '-m', 'pip', '--disable-pip-version-check', 'wheel', '--no-deps', '-w', 'C:\\\\Users\\\\ARNAVS~1\\\\AppData\\\\Local\\\\Temp\\\\tmpl2qu44ll', '--quiet', 'numpy>=1.17.3']' returned non-zero exit status 1.\n",
      "      \n",
      "      The above exception was the direct cause of the following exception:\n",
      "      \n",
      "      Traceback (most recent call last):\n",
      "        File \"C:\\Users\\Arnav Sharma\\AppData\\Local\\Programs\\Python\\Python38\\lib\\site-packages\\pip\\_vendor\\pyproject_hooks\\_in_process\\_in_process.py\", line 353, in <module>\n",
      "          main()\n",
      "        File \"C:\\Users\\Arnav Sharma\\AppData\\Local\\Programs\\Python\\Python38\\lib\\site-packages\\pip\\_vendor\\pyproject_hooks\\_in_process\\_in_process.py\", line 335, in main\n",
      "          json_out['return_val'] = hook(**hook_input['kwargs'])\n",
      "        File \"C:\\Users\\Arnav Sharma\\AppData\\Local\\Programs\\Python\\Python38\\lib\\site-packages\\pip\\_vendor\\pyproject_hooks\\_in_process\\_in_process.py\", line 118, in get_requires_for_build_wheel\n",
      "          return hook(config_settings)\n",
      "        File \"C:\\Users\\Arnav Sharma\\AppData\\Local\\Temp\\pip-build-env-dhvh56jw\\overlay\\Lib\\site-packages\\setuptools\\build_meta.py\", line 325, in get_requires_for_build_wheel\n",
      "          return self._get_build_requires(config_settings, requirements=['wheel'])\n",
      "        File \"C:\\Users\\Arnav Sharma\\AppData\\Local\\Temp\\pip-build-env-dhvh56jw\\overlay\\Lib\\site-packages\\setuptools\\build_meta.py\", line 295, in _get_build_requires\n",
      "          self.run_setup()\n",
      "        File \"C:\\Users\\Arnav Sharma\\AppData\\Local\\Temp\\pip-build-env-dhvh56jw\\overlay\\Lib\\site-packages\\setuptools\\build_meta.py\", line 480, in run_setup\n",
      "          super(_BuildMetaLegacyBackend, self).run_setup(setup_script=setup_script)\n",
      "        File \"C:\\Users\\Arnav Sharma\\AppData\\Local\\Temp\\pip-build-env-dhvh56jw\\overlay\\Lib\\site-packages\\setuptools\\build_meta.py\", line 311, in run_setup\n",
      "          exec(code, locals())\n",
      "        File \"<string>\", line 65, in <module>\n",
      "        File \"C:\\Users\\Arnav Sharma\\AppData\\Local\\Temp\\pip-build-env-dhvh56jw\\overlay\\Lib\\site-packages\\setuptools\\dist.py\", line 636, in fetch_build_eggs\n",
      "          return _fetch_build_eggs(self, requires)\n",
      "        File \"C:\\Users\\Arnav Sharma\\AppData\\Local\\Temp\\pip-build-env-dhvh56jw\\overlay\\Lib\\site-packages\\setuptools\\installer.py\", line 38, in _fetch_build_eggs\n",
      "          resolved_dists = pkg_resources.working_set.resolve(\n",
      "        File \"C:\\Users\\Arnav Sharma\\AppData\\Local\\Temp\\pip-build-env-dhvh56jw\\overlay\\Lib\\site-packages\\pkg_resources\\__init__.py\", line 829, in resolve\n",
      "          dist = self._resolve_dist(\n",
      "        File \"C:\\Users\\Arnav Sharma\\AppData\\Local\\Temp\\pip-build-env-dhvh56jw\\overlay\\Lib\\site-packages\\pkg_resources\\__init__.py\", line 865, in _resolve_dist\n",
      "          dist = best[req.key] = env.best_match(\n",
      "        File \"C:\\Users\\Arnav Sharma\\AppData\\Local\\Temp\\pip-build-env-dhvh56jw\\overlay\\Lib\\site-packages\\pkg_resources\\__init__.py\", line 1135, in best_match\n",
      "          return self.obtain(req, installer)\n",
      "        File \"C:\\Users\\Arnav Sharma\\AppData\\Local\\Temp\\pip-build-env-dhvh56jw\\overlay\\Lib\\site-packages\\pkg_resources\\__init__.py\", line 1147, in obtain\n",
      "          return installer(requirement)\n",
      "        File \"C:\\Users\\Arnav Sharma\\AppData\\Local\\Temp\\pip-build-env-dhvh56jw\\overlay\\Lib\\site-packages\\setuptools\\installer.py\", line 103, in _fetch_build_egg_no_warn\n",
      "          raise DistutilsError(str(e)) from e\n",
      "      distutils.errors.DistutilsError: Command '['C:\\\\Users\\\\Arnav Sharma\\\\AppData\\\\Local\\\\Programs\\\\Python\\\\Python38\\\\python.exe', '-m', 'pip', '--disable-pip-version-check', 'wheel', '--no-deps', '-w', 'C:\\\\Users\\\\ARNAVS~1\\\\AppData\\\\Local\\\\Temp\\\\tmpl2qu44ll', '--quiet', 'numpy>=1.17.3']' returned non-zero exit status 1.\n",
      "      [end of output]\n",
      "  \n",
      "  note: This error originates from a subprocess, and is likely not a problem with pip.\n",
      "error: subprocess-exited-with-error\n",
      "\n",
      "× Getting requirements to build wheel did not run successfully.\n",
      "│ exit code: 1\n",
      "╰─> See above for output.\n",
      "\n",
      "note: This error originates from a subprocess, and is likely not a problem with pip.\n"
     ]
    }
   ],
   "source": [
    "!py -3.8 -m pip install --use-pep517 scikit-surprise"
   ]
  }
 ],
 "metadata": {
  "kernelspec": {
   "display_name": "Python 3",
   "language": "python",
   "name": "python3"
  },
  "language_info": {
   "codemirror_mode": {
    "name": "ipython",
    "version": 3
   },
   "file_extension": ".py",
   "mimetype": "text/x-python",
   "name": "python",
   "nbconvert_exporter": "python",
   "pygments_lexer": "ipython3",
   "version": "3.8.10"
  }
 },
 "nbformat": 4,
 "nbformat_minor": 2
}
